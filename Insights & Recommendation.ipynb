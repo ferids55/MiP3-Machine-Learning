{
 "cells": [
  {
   "cell_type": "markdown",
   "metadata": {},
   "source": [
    "# Import Library"
   ]
  },
  {
   "cell_type": "code",
   "execution_count": 1,
   "metadata": {},
   "outputs": [],
   "source": [
    "# load necessary libraries\n",
    "import numpy as np\n",
    "import pandas as pd\n",
    "import matplotlib.pyplot as plt\n",
    "import seaborn as sns\n",
    "\n",
    "pd.set_option('display.max_columns', None)"
   ]
  },
  {
   "cell_type": "markdown",
   "metadata": {},
   "source": [
    "# Load Cluster Data"
   ]
  },
  {
   "cell_type": "code",
   "execution_count": 2,
   "metadata": {},
   "outputs": [
    {
     "data": {
      "text/html": [
       "<div>\n",
       "<style scoped>\n",
       "    .dataframe tbody tr th:only-of-type {\n",
       "        vertical-align: middle;\n",
       "    }\n",
       "\n",
       "    .dataframe tbody tr th {\n",
       "        vertical-align: top;\n",
       "    }\n",
       "\n",
       "    .dataframe thead th {\n",
       "        text-align: right;\n",
       "    }\n",
       "</style>\n",
       "<table border=\"1\" class=\"dataframe\">\n",
       "  <thead>\n",
       "    <tr style=\"text-align: right;\">\n",
       "      <th></th>\n",
       "      <th>Education</th>\n",
       "      <th>Marital_Status</th>\n",
       "      <th>Income</th>\n",
       "      <th>Recency</th>\n",
       "      <th>NumWebVisitsMonth</th>\n",
       "      <th>Complain</th>\n",
       "      <th>Response</th>\n",
       "      <th>Age</th>\n",
       "      <th>Children</th>\n",
       "      <th>TotalSpending</th>\n",
       "      <th>NumOfTransactions</th>\n",
       "      <th>NumOfAcceptedCmp</th>\n",
       "      <th>CVR</th>\n",
       "      <th>AgeGroup</th>\n",
       "      <th>IncomeGroup</th>\n",
       "      <th>SpendingGroup</th>\n",
       "      <th>TransactionGroup</th>\n",
       "      <th>Cluster</th>\n",
       "    </tr>\n",
       "  </thead>\n",
       "  <tbody>\n",
       "    <tr>\n",
       "      <th>0</th>\n",
       "      <td>S1</td>\n",
       "      <td>Lajang</td>\n",
       "      <td>58138000.0</td>\n",
       "      <td>58</td>\n",
       "      <td>7</td>\n",
       "      <td>0</td>\n",
       "      <td>1</td>\n",
       "      <td>65</td>\n",
       "      <td>0</td>\n",
       "      <td>1617000</td>\n",
       "      <td>25</td>\n",
       "      <td>0</td>\n",
       "      <td>0.142857</td>\n",
       "      <td>61-70</td>\n",
       "      <td>50M-60M</td>\n",
       "      <td>1.5M-2M</td>\n",
       "      <td>20-30</td>\n",
       "      <td>1</td>\n",
       "    </tr>\n",
       "    <tr>\n",
       "      <th>1</th>\n",
       "      <td>S1</td>\n",
       "      <td>Lajang</td>\n",
       "      <td>46344000.0</td>\n",
       "      <td>38</td>\n",
       "      <td>5</td>\n",
       "      <td>0</td>\n",
       "      <td>0</td>\n",
       "      <td>68</td>\n",
       "      <td>2</td>\n",
       "      <td>27000</td>\n",
       "      <td>6</td>\n",
       "      <td>0</td>\n",
       "      <td>0.000000</td>\n",
       "      <td>61-70</td>\n",
       "      <td>40M-50M</td>\n",
       "      <td>0-0.5M</td>\n",
       "      <td>0-10</td>\n",
       "      <td>3</td>\n",
       "    </tr>\n",
       "    <tr>\n",
       "      <th>2</th>\n",
       "      <td>S1</td>\n",
       "      <td>Bertunangan</td>\n",
       "      <td>71613000.0</td>\n",
       "      <td>26</td>\n",
       "      <td>4</td>\n",
       "      <td>0</td>\n",
       "      <td>0</td>\n",
       "      <td>57</td>\n",
       "      <td>0</td>\n",
       "      <td>776000</td>\n",
       "      <td>21</td>\n",
       "      <td>0</td>\n",
       "      <td>0.000000</td>\n",
       "      <td>51-60</td>\n",
       "      <td>70M-80M</td>\n",
       "      <td>0.5M-1M</td>\n",
       "      <td>20-30</td>\n",
       "      <td>1</td>\n",
       "    </tr>\n",
       "    <tr>\n",
       "      <th>3</th>\n",
       "      <td>S1</td>\n",
       "      <td>Bertunangan</td>\n",
       "      <td>26646000.0</td>\n",
       "      <td>26</td>\n",
       "      <td>6</td>\n",
       "      <td>0</td>\n",
       "      <td>0</td>\n",
       "      <td>38</td>\n",
       "      <td>1</td>\n",
       "      <td>53000</td>\n",
       "      <td>8</td>\n",
       "      <td>0</td>\n",
       "      <td>0.000000</td>\n",
       "      <td>31-40</td>\n",
       "      <td>20M-30M</td>\n",
       "      <td>0-0.5M</td>\n",
       "      <td>0-10</td>\n",
       "      <td>0</td>\n",
       "    </tr>\n",
       "    <tr>\n",
       "      <th>4</th>\n",
       "      <td>S3</td>\n",
       "      <td>Menikah</td>\n",
       "      <td>58293000.0</td>\n",
       "      <td>94</td>\n",
       "      <td>5</td>\n",
       "      <td>0</td>\n",
       "      <td>0</td>\n",
       "      <td>41</td>\n",
       "      <td>1</td>\n",
       "      <td>422000</td>\n",
       "      <td>19</td>\n",
       "      <td>0</td>\n",
       "      <td>0.000000</td>\n",
       "      <td>41-50</td>\n",
       "      <td>50M-60M</td>\n",
       "      <td>0-0.5M</td>\n",
       "      <td>10-20</td>\n",
       "      <td>1</td>\n",
       "    </tr>\n",
       "  </tbody>\n",
       "</table>\n",
       "</div>"
      ],
      "text/plain": [
       "  Education Marital_Status      Income  Recency  NumWebVisitsMonth  Complain  \\\n",
       "0        S1         Lajang  58138000.0       58                  7         0   \n",
       "1        S1         Lajang  46344000.0       38                  5         0   \n",
       "2        S1    Bertunangan  71613000.0       26                  4         0   \n",
       "3        S1    Bertunangan  26646000.0       26                  6         0   \n",
       "4        S3        Menikah  58293000.0       94                  5         0   \n",
       "\n",
       "   Response  Age  Children  TotalSpending  NumOfTransactions  \\\n",
       "0         1   65         0        1617000                 25   \n",
       "1         0   68         2          27000                  6   \n",
       "2         0   57         0         776000                 21   \n",
       "3         0   38         1          53000                  8   \n",
       "4         0   41         1         422000                 19   \n",
       "\n",
       "   NumOfAcceptedCmp       CVR AgeGroup IncomeGroup SpendingGroup  \\\n",
       "0                 0  0.142857    61-70     50M-60M       1.5M-2M   \n",
       "1                 0  0.000000    61-70     40M-50M        0-0.5M   \n",
       "2                 0  0.000000    51-60     70M-80M       0.5M-1M   \n",
       "3                 0  0.000000    31-40     20M-30M        0-0.5M   \n",
       "4                 0  0.000000    41-50     50M-60M        0-0.5M   \n",
       "\n",
       "  TransactionGroup  Cluster  \n",
       "0            20-30        1  \n",
       "1             0-10        3  \n",
       "2            20-30        1  \n",
       "3             0-10        0  \n",
       "4            10-20        1  "
      ]
     },
     "execution_count": 2,
     "metadata": {},
     "output_type": "execute_result"
    }
   ],
   "source": [
    "df_campaign_final = pd.read_csv('data/marketing_campaign_final.csv')\n",
    "df_campaign_final.head()"
   ]
  },
  {
   "cell_type": "code",
   "execution_count": 3,
   "metadata": {},
   "outputs": [
    {
     "name": "stdout",
     "output_type": "stream",
     "text": [
      "<class 'pandas.core.frame.DataFrame'>\n",
      "RangeIndex: 2049 entries, 0 to 2048\n",
      "Data columns (total 18 columns):\n",
      " #   Column             Non-Null Count  Dtype  \n",
      "---  ------             --------------  -----  \n",
      " 0   Education          2049 non-null   object \n",
      " 1   Marital_Status     2049 non-null   object \n",
      " 2   Income             2049 non-null   float64\n",
      " 3   Recency            2049 non-null   int64  \n",
      " 4   NumWebVisitsMonth  2049 non-null   int64  \n",
      " 5   Complain           2049 non-null   int64  \n",
      " 6   Response           2049 non-null   int64  \n",
      " 7   Age                2049 non-null   int64  \n",
      " 8   Children           2049 non-null   int64  \n",
      " 9   TotalSpending      2049 non-null   int64  \n",
      " 10  NumOfTransactions  2049 non-null   int64  \n",
      " 11  NumOfAcceptedCmp   2049 non-null   int64  \n",
      " 12  CVR                2049 non-null   float64\n",
      " 13  AgeGroup           2049 non-null   object \n",
      " 14  IncomeGroup        2049 non-null   object \n",
      " 15  SpendingGroup      2049 non-null   object \n",
      " 16  TransactionGroup   2049 non-null   object \n",
      " 17  Cluster            2049 non-null   int64  \n",
      "dtypes: float64(2), int64(10), object(6)\n",
      "memory usage: 288.3+ KB\n"
     ]
    }
   ],
   "source": [
    "df_campaign_final.info()"
   ]
  },
  {
   "cell_type": "markdown",
   "metadata": {},
   "source": [
    "# Insights"
   ]
  },
  {
   "cell_type": "markdown",
   "metadata": {},
   "source": [
    "## Cluster by Age Group"
   ]
  },
  {
   "cell_type": "code",
   "execution_count": 4,
   "metadata": {},
   "outputs": [
    {
     "data": {
      "text/html": [
       "<div>\n",
       "<style scoped>\n",
       "    .dataframe tbody tr th:only-of-type {\n",
       "        vertical-align: middle;\n",
       "    }\n",
       "\n",
       "    .dataframe tbody tr th {\n",
       "        vertical-align: top;\n",
       "    }\n",
       "\n",
       "    .dataframe thead th {\n",
       "        text-align: right;\n",
       "    }\n",
       "</style>\n",
       "<table border=\"1\" class=\"dataframe\">\n",
       "  <thead>\n",
       "    <tr style=\"text-align: right;\">\n",
       "      <th></th>\n",
       "      <th>Cluster 0</th>\n",
       "      <th>Cluster 1</th>\n",
       "      <th>Cluster 2</th>\n",
       "      <th>Cluster 3</th>\n",
       "    </tr>\n",
       "    <tr>\n",
       "      <th>AgeGroup</th>\n",
       "      <th></th>\n",
       "      <th></th>\n",
       "      <th></th>\n",
       "      <th></th>\n",
       "    </tr>\n",
       "  </thead>\n",
       "  <tbody>\n",
       "    <tr>\n",
       "      <th>20-30</th>\n",
       "      <td>0.011111</td>\n",
       "      <td>0.000000</td>\n",
       "      <td>0.200000</td>\n",
       "      <td>0.000000</td>\n",
       "    </tr>\n",
       "    <tr>\n",
       "      <th>31-40</th>\n",
       "      <td>0.018950</td>\n",
       "      <td>0.000000</td>\n",
       "      <td>0.223628</td>\n",
       "      <td>0.000000</td>\n",
       "    </tr>\n",
       "    <tr>\n",
       "      <th>41-50</th>\n",
       "      <td>0.014590</td>\n",
       "      <td>0.009236</td>\n",
       "      <td>0.119738</td>\n",
       "      <td>0.016667</td>\n",
       "    </tr>\n",
       "    <tr>\n",
       "      <th>51-60</th>\n",
       "      <td>0.014637</td>\n",
       "      <td>0.021123</td>\n",
       "      <td>0.099370</td>\n",
       "      <td>0.013420</td>\n",
       "    </tr>\n",
       "    <tr>\n",
       "      <th>61-70</th>\n",
       "      <td>0.000000</td>\n",
       "      <td>0.029211</td>\n",
       "      <td>0.142804</td>\n",
       "      <td>0.010391</td>\n",
       "    </tr>\n",
       "    <tr>\n",
       "      <th>71-80</th>\n",
       "      <td>0.000000</td>\n",
       "      <td>0.045705</td>\n",
       "      <td>0.147287</td>\n",
       "      <td>0.008777</td>\n",
       "    </tr>\n",
       "  </tbody>\n",
       "</table>\n",
       "</div>"
      ],
      "text/plain": [
       "          Cluster 0  Cluster 1  Cluster 2  Cluster 3\n",
       "AgeGroup                                            \n",
       "20-30      0.011111   0.000000   0.200000   0.000000\n",
       "31-40      0.018950   0.000000   0.223628   0.000000\n",
       "41-50      0.014590   0.009236   0.119738   0.016667\n",
       "51-60      0.014637   0.021123   0.099370   0.013420\n",
       "61-70      0.000000   0.029211   0.142804   0.010391\n",
       "71-80      0.000000   0.045705   0.147287   0.008777"
      ]
     },
     "execution_count": 4,
     "metadata": {},
     "output_type": "execute_result"
    }
   ],
   "source": [
    "cluster_by_age = df_campaign_final.groupby(['Cluster', 'AgeGroup'])['CVR'].mean()\n",
    "cluster_by_age = cluster_by_age.unstack(level=0).fillna(0.0)\n",
    "cluster_by_age.columns = ['Cluster 0', 'Cluster 1', 'Cluster 2', 'Cluster 3']\n",
    "cluster_by_age"
   ]
  },
  {
   "cell_type": "code",
   "execution_count": 5,
   "metadata": {},
   "outputs": [
    {
     "data": {
      "image/png": "[encoded data removed]",
      "text/plain": [
       "<Figure size 1008x576 with 1 Axes>"
      ]
     },
     "metadata": {
      "needs_background": "light"
     },
     "output_type": "display_data"
    }
   ],
   "source": [
    "fig, ax = plt.subplots(1, 1, figsize=(14,8))\n",
    "cluster_by_age.plot(kind='bar', stacked=True, width=0.7, ax=ax)\n",
    "\n",
    "ax.set_xlabel('Age Group', fontsize=14, fontweight='bold', alpha=0.8)\n",
    "ax.set_ylabel('Conversion Rate', fontsize=14, fontweight='bold', alpha=0.8)\n",
    "plt.tick_params(axis='both', which='major', labelsize=14)\n",
    "plt.grid(axis='y', alpha=0.8)\n",
    "ax.set_axisbelow(True)\n",
    "\n",
    "plt.xlim(-0.5, 5.5) # membatasi x-axis\n",
    "plt.ylim(0, 0.4) # membatasi y-axis\n",
    "plt.xticks(rotation=0)\n",
    "plt.yticks(np.arange(0, 0.45, 0.1))\n",
    "\n",
    "ax.legend(fontsize=14)\n",
    "plt.tight_layout()\n",
    "plt.savefig('img/cluster_by_age.png')\n",
    "plt.show()"
   ]
  },
  {
   "cell_type": "markdown",
   "metadata": {},
   "source": [
    "## Cluster by Number of Children"
   ]
  },
  {
   "cell_type": "code",
   "execution_count": 6,
   "metadata": {},
   "outputs": [
    {
     "data": {
      "text/html": [
       "<div>\n",
       "<style scoped>\n",
       "    .dataframe tbody tr th:only-of-type {\n",
       "        vertical-align: middle;\n",
       "    }\n",
       "\n",
       "    .dataframe tbody tr th {\n",
       "        vertical-align: top;\n",
       "    }\n",
       "\n",
       "    .dataframe thead th {\n",
       "        text-align: right;\n",
       "    }\n",
       "</style>\n",
       "<table border=\"1\" class=\"dataframe\">\n",
       "  <thead>\n",
       "    <tr style=\"text-align: right;\">\n",
       "      <th></th>\n",
       "      <th>Cluster 0</th>\n",
       "      <th>Cluster 1</th>\n",
       "      <th>Cluster 2</th>\n",
       "      <th>Cluster 3</th>\n",
       "    </tr>\n",
       "    <tr>\n",
       "      <th>Children</th>\n",
       "      <th></th>\n",
       "      <th></th>\n",
       "      <th></th>\n",
       "      <th></th>\n",
       "    </tr>\n",
       "  </thead>\n",
       "  <tbody>\n",
       "    <tr>\n",
       "      <th>0</th>\n",
       "      <td>0.017877</td>\n",
       "      <td>0.060101</td>\n",
       "      <td>0.170561</td>\n",
       "      <td>0.011199</td>\n",
       "    </tr>\n",
       "    <tr>\n",
       "      <th>1</th>\n",
       "      <td>0.016270</td>\n",
       "      <td>0.012876</td>\n",
       "      <td>0.038004</td>\n",
       "      <td>0.010937</td>\n",
       "    </tr>\n",
       "    <tr>\n",
       "      <th>2</th>\n",
       "      <td>0.011201</td>\n",
       "      <td>0.017802</td>\n",
       "      <td>0.048980</td>\n",
       "      <td>0.015961</td>\n",
       "    </tr>\n",
       "    <tr>\n",
       "      <th>3</th>\n",
       "      <td>0.000000</td>\n",
       "      <td>0.035714</td>\n",
       "      <td>0.000000</td>\n",
       "      <td>0.000000</td>\n",
       "    </tr>\n",
       "  </tbody>\n",
       "</table>\n",
       "</div>"
      ],
      "text/plain": [
       "          Cluster 0  Cluster 1  Cluster 2  Cluster 3\n",
       "Children                                            \n",
       "0          0.017877   0.060101   0.170561   0.011199\n",
       "1          0.016270   0.012876   0.038004   0.010937\n",
       "2          0.011201   0.017802   0.048980   0.015961\n",
       "3          0.000000   0.035714   0.000000   0.000000"
      ]
     },
     "execution_count": 6,
     "metadata": {},
     "output_type": "execute_result"
    }
   ],
   "source": [
    "cluster_by_children = df_campaign_final.groupby(['Cluster', 'Children'])['CVR'].mean()\n",
    "cluster_by_children = cluster_by_children.unstack(level=0).fillna(0.0)\n",
    "cluster_by_children.columns = ['Cluster 0', 'Cluster 1', 'Cluster 2', 'Cluster 3']\n",
    "cluster_by_children"
   ]
  },
  {
   "cell_type": "code",
   "execution_count": 7,
   "metadata": {},
   "outputs": [
    {
     "data": {
      "image/png": "[encoded data removed]",
      "text/plain": [
       "<Figure size 864x576 with 1 Axes>"
      ]
     },
     "metadata": {
      "needs_background": "light"
     },
     "output_type": "display_data"
    }
   ],
   "source": [
    "fig, ax = plt.subplots(1, 1, figsize=(12,8))\n",
    "cluster_by_children.plot(kind='bar', stacked=True, width=0.7, ax=ax)\n",
    "\n",
    "ax.set_xlabel('Number of Children', fontsize=14, fontweight='bold', alpha=0.8)\n",
    "ax.set_ylabel('Conversion Rate', fontsize=14, fontweight='bold', alpha=0.8)\n",
    "plt.tick_params(axis='both', which='major', labelsize=14)\n",
    "plt.grid(axis='y', alpha=0.8)\n",
    "ax.set_axisbelow(True)\n",
    "\n",
    "plt.xlim(-0.5, 3.5) # membatasi x-axis\n",
    "plt.ylim(0, 0.3) # membatasi y-axis\n",
    "plt.xticks(rotation=0)\n",
    "plt.yticks(np.arange(0, 0.35, 0.1))\n",
    "\n",
    "ax.legend(fontsize=14)\n",
    "plt.tight_layout()\n",
    "plt.savefig('img/cluster_by_children.png')\n",
    "plt.show()"
   ]
  },
  {
   "cell_type": "markdown",
   "metadata": {},
   "source": [
    "## Cluster by Income Group"
   ]
  },
  {
   "cell_type": "code",
   "execution_count": 8,
   "metadata": {},
   "outputs": [
    {
     "data": {
      "text/html": [
       "<div>\n",
       "<style scoped>\n",
       "    .dataframe tbody tr th:only-of-type {\n",
       "        vertical-align: middle;\n",
       "    }\n",
       "\n",
       "    .dataframe tbody tr th {\n",
       "        vertical-align: top;\n",
       "    }\n",
       "\n",
       "    .dataframe thead th {\n",
       "        text-align: right;\n",
       "    }\n",
       "</style>\n",
       "<table border=\"1\" class=\"dataframe\">\n",
       "  <thead>\n",
       "    <tr style=\"text-align: right;\">\n",
       "      <th></th>\n",
       "      <th>Cluster 0</th>\n",
       "      <th>Cluster 1</th>\n",
       "      <th>Cluster 2</th>\n",
       "      <th>Cluster 3</th>\n",
       "    </tr>\n",
       "    <tr>\n",
       "      <th>IncomeGroup</th>\n",
       "      <th></th>\n",
       "      <th></th>\n",
       "      <th></th>\n",
       "      <th></th>\n",
       "    </tr>\n",
       "  </thead>\n",
       "  <tbody>\n",
       "    <tr>\n",
       "      <th>0M-10M</th>\n",
       "      <td>0.012401</td>\n",
       "      <td>0.000000</td>\n",
       "      <td>0.000000</td>\n",
       "      <td>0.000000</td>\n",
       "    </tr>\n",
       "    <tr>\n",
       "      <th>10M-20M</th>\n",
       "      <td>0.015070</td>\n",
       "      <td>0.000000</td>\n",
       "      <td>0.000000</td>\n",
       "      <td>0.000000</td>\n",
       "    </tr>\n",
       "    <tr>\n",
       "      <th>20M-30M</th>\n",
       "      <td>0.016840</td>\n",
       "      <td>0.000000</td>\n",
       "      <td>0.000000</td>\n",
       "      <td>0.006054</td>\n",
       "    </tr>\n",
       "    <tr>\n",
       "      <th>30M-40M</th>\n",
       "      <td>0.016085</td>\n",
       "      <td>0.000000</td>\n",
       "      <td>0.000000</td>\n",
       "      <td>0.020940</td>\n",
       "    </tr>\n",
       "    <tr>\n",
       "      <th>40M-50M</th>\n",
       "      <td>0.014894</td>\n",
       "      <td>0.035979</td>\n",
       "      <td>0.000000</td>\n",
       "      <td>0.012320</td>\n",
       "    </tr>\n",
       "    <tr>\n",
       "      <th>50M-60M</th>\n",
       "      <td>0.000000</td>\n",
       "      <td>0.023731</td>\n",
       "      <td>0.000000</td>\n",
       "      <td>0.006378</td>\n",
       "    </tr>\n",
       "    <tr>\n",
       "      <th>60M-70M</th>\n",
       "      <td>0.000000</td>\n",
       "      <td>0.021429</td>\n",
       "      <td>0.093745</td>\n",
       "      <td>0.000000</td>\n",
       "    </tr>\n",
       "    <tr>\n",
       "      <th>70M-80M</th>\n",
       "      <td>0.000000</td>\n",
       "      <td>0.014848</td>\n",
       "      <td>0.097087</td>\n",
       "      <td>0.000000</td>\n",
       "    </tr>\n",
       "    <tr>\n",
       "      <th>80M-90M</th>\n",
       "      <td>0.000000</td>\n",
       "      <td>0.000000</td>\n",
       "      <td>0.188114</td>\n",
       "      <td>0.000000</td>\n",
       "    </tr>\n",
       "    <tr>\n",
       "      <th>90M-100M</th>\n",
       "      <td>0.000000</td>\n",
       "      <td>0.000000</td>\n",
       "      <td>0.294402</td>\n",
       "      <td>0.000000</td>\n",
       "    </tr>\n",
       "    <tr>\n",
       "      <th>&gt;100M</th>\n",
       "      <td>0.000000</td>\n",
       "      <td>0.000000</td>\n",
       "      <td>0.143939</td>\n",
       "      <td>0.000000</td>\n",
       "    </tr>\n",
       "  </tbody>\n",
       "</table>\n",
       "</div>"
      ],
      "text/plain": [
       "             Cluster 0  Cluster 1  Cluster 2  Cluster 3\n",
       "IncomeGroup                                            \n",
       "0M-10M        0.012401   0.000000   0.000000   0.000000\n",
       "10M-20M       0.015070   0.000000   0.000000   0.000000\n",
       "20M-30M       0.016840   0.000000   0.000000   0.006054\n",
       "30M-40M       0.016085   0.000000   0.000000   0.020940\n",
       "40M-50M       0.014894   0.035979   0.000000   0.012320\n",
       "50M-60M       0.000000   0.023731   0.000000   0.006378\n",
       "60M-70M       0.000000   0.021429   0.093745   0.000000\n",
       "70M-80M       0.000000   0.014848   0.097087   0.000000\n",
       "80M-90M       0.000000   0.000000   0.188114   0.000000\n",
       "90M-100M      0.000000   0.000000   0.294402   0.000000\n",
       ">100M         0.000000   0.000000   0.143939   0.000000"
      ]
     },
     "execution_count": 8,
     "metadata": {},
     "output_type": "execute_result"
    }
   ],
   "source": [
    "cluster_by_income = df_campaign_final.groupby(['Cluster', 'IncomeGroup'])['CVR'].mean()\n",
    "cluster_by_income = cluster_by_income.unstack(level=0).fillna(0.0)\n",
    "cluster_by_income.columns = ['Cluster 0', 'Cluster 1', 'Cluster 2', 'Cluster 3']\n",
    "cluster_by_income"
   ]
  },
  {
   "cell_type": "code",
   "execution_count": 9,
   "metadata": {},
   "outputs": [
    {
     "data": {
      "image/png": "[encoded data removed]",
      "text/plain": [
       "<Figure size 1008x576 with 1 Axes>"
      ]
     },
     "metadata": {
      "needs_background": "light"
     },
     "output_type": "display_data"
    }
   ],
   "source": [
    "fig, ax = plt.subplots(1, 1, figsize=(14,8))\n",
    "cluster_by_income.plot(kind='bar', stacked=True, width=0.7, ax=ax)\n",
    "\n",
    "ax.set_xlabel('Income Group', fontsize=14, fontweight='bold', alpha=0.8)\n",
    "ax.set_ylabel('Conversion Rate', fontsize=14, fontweight='bold', alpha=0.8)\n",
    "plt.tick_params(axis='both', which='major', labelsize=14)\n",
    "plt.grid(axis='y', alpha=0.8)\n",
    "ax.set_axisbelow(True)\n",
    "\n",
    "plt.xlim(-0.5, 10.5) # membatasi x-axis\n",
    "plt.ylim(0, 0.4) # membatasi y-axis\n",
    "plt.xticks(rotation=0)\n",
    "plt.yticks(np.arange(0, 0.45, 0.1))\n",
    "\n",
    "ax.legend(fontsize=14, loc='upper left')\n",
    "plt.tight_layout()\n",
    "plt.savefig('img/cluster_by_income.png')\n",
    "plt.show()"
   ]
  },
  {
   "cell_type": "markdown",
   "metadata": {},
   "source": [
    "## Cluster by Spending Group"
   ]
  },
  {
   "cell_type": "code",
   "execution_count": 10,
   "metadata": {},
   "outputs": [
    {
     "data": {
      "text/html": [
       "<div>\n",
       "<style scoped>\n",
       "    .dataframe tbody tr th:only-of-type {\n",
       "        vertical-align: middle;\n",
       "    }\n",
       "\n",
       "    .dataframe tbody tr th {\n",
       "        vertical-align: top;\n",
       "    }\n",
       "\n",
       "    .dataframe thead th {\n",
       "        text-align: right;\n",
       "    }\n",
       "</style>\n",
       "<table border=\"1\" class=\"dataframe\">\n",
       "  <thead>\n",
       "    <tr style=\"text-align: right;\">\n",
       "      <th></th>\n",
       "      <th>Cluster 0</th>\n",
       "      <th>Cluster 1</th>\n",
       "      <th>Cluster 2</th>\n",
       "      <th>Cluster 3</th>\n",
       "    </tr>\n",
       "    <tr>\n",
       "      <th>SpendingGroup</th>\n",
       "      <th></th>\n",
       "      <th></th>\n",
       "      <th></th>\n",
       "      <th></th>\n",
       "    </tr>\n",
       "  </thead>\n",
       "  <tbody>\n",
       "    <tr>\n",
       "      <th>0-0.5M</th>\n",
       "      <td>0.015228</td>\n",
       "      <td>0.018743</td>\n",
       "      <td>0.000000</td>\n",
       "      <td>0.012508</td>\n",
       "    </tr>\n",
       "    <tr>\n",
       "      <th>0.5M-1M</th>\n",
       "      <td>0.052381</td>\n",
       "      <td>0.013454</td>\n",
       "      <td>0.099864</td>\n",
       "      <td>0.015873</td>\n",
       "    </tr>\n",
       "    <tr>\n",
       "      <th>1M-1.5M</th>\n",
       "      <td>0.000000</td>\n",
       "      <td>0.032587</td>\n",
       "      <td>0.110361</td>\n",
       "      <td>0.000000</td>\n",
       "    </tr>\n",
       "    <tr>\n",
       "      <th>1.5M-2M</th>\n",
       "      <td>0.000000</td>\n",
       "      <td>0.124603</td>\n",
       "      <td>0.177018</td>\n",
       "      <td>0.000000</td>\n",
       "    </tr>\n",
       "    <tr>\n",
       "      <th>2M-2.5M</th>\n",
       "      <td>0.000000</td>\n",
       "      <td>0.000000</td>\n",
       "      <td>0.212103</td>\n",
       "      <td>0.000000</td>\n",
       "    </tr>\n",
       "    <tr>\n",
       "      <th>&gt;2.5M</th>\n",
       "      <td>0.000000</td>\n",
       "      <td>0.000000</td>\n",
       "      <td>0.416667</td>\n",
       "      <td>0.000000</td>\n",
       "    </tr>\n",
       "  </tbody>\n",
       "</table>\n",
       "</div>"
      ],
      "text/plain": [
       "               Cluster 0  Cluster 1  Cluster 2  Cluster 3\n",
       "SpendingGroup                                            \n",
       "0-0.5M          0.015228   0.018743   0.000000   0.012508\n",
       "0.5M-1M         0.052381   0.013454   0.099864   0.015873\n",
       "1M-1.5M         0.000000   0.032587   0.110361   0.000000\n",
       "1.5M-2M         0.000000   0.124603   0.177018   0.000000\n",
       "2M-2.5M         0.000000   0.000000   0.212103   0.000000\n",
       ">2.5M           0.000000   0.000000   0.416667   0.000000"
      ]
     },
     "execution_count": 10,
     "metadata": {},
     "output_type": "execute_result"
    }
   ],
   "source": [
    "cluster_by_spending = df_campaign_final.groupby(['Cluster', 'SpendingGroup'])['CVR'].mean()\n",
    "spending_order = ['0-0.5M', '0.5M-1M', '1M-1.5M', '1.5M-2M', '2M-2.5M', '>2.5M']\n",
    "cluster_by_spending = cluster_by_spending.unstack(level=0).fillna(0.0).reindex(spending_order)\n",
    "cluster_by_spending.columns = ['Cluster 0', 'Cluster 1', 'Cluster 2', 'Cluster 3']\n",
    "cluster_by_spending"
   ]
  },
  {
   "cell_type": "code",
   "execution_count": 11,
   "metadata": {},
   "outputs": [
    {
     "data": {
      "image/png": "[encoded data removed]",
      "text/plain": [
       "<Figure size 864x576 with 1 Axes>"
      ]
     },
     "metadata": {
      "needs_background": "light"
     },
     "output_type": "display_data"
    }
   ],
   "source": [
    "fig, ax = plt.subplots(1, 1, figsize=(12,8))\n",
    "cluster_by_spending.plot(kind='bar', stacked=True, width=0.7, ax=ax)\n",
    "\n",
    "ax.set_xlabel('Spending Group', fontsize=14, fontweight='bold', alpha=0.8)\n",
    "ax.set_ylabel('Conversion Rate', fontsize=14, fontweight='bold', alpha=0.8)\n",
    "plt.tick_params(axis='both', which='major', labelsize=14)\n",
    "plt.grid(axis='y', alpha=0.8)\n",
    "ax.set_axisbelow(True)\n",
    "\n",
    "plt.xlim(-0.5, 5.5) # membatasi x-axis\n",
    "plt.ylim(0, 0.5) # membatasi y-axis\n",
    "plt.xticks(rotation=0)\n",
    "plt.yticks(np.arange(0, 0.55, 0.1))\n",
    "\n",
    "ax.legend(fontsize=14, loc='upper left')\n",
    "plt.tight_layout()\n",
    "plt.savefig('img/cluster_by_spending.png')\n",
    "plt.show()"
   ]
  },
  {
   "cell_type": "markdown",
   "metadata": {},
   "source": [
    "## Cluster by Transaction Group"
   ]
  },
  {
   "cell_type": "code",
   "execution_count": 12,
   "metadata": {},
   "outputs": [
    {
     "data": {
      "text/html": [
       "<div>\n",
       "<style scoped>\n",
       "    .dataframe tbody tr th:only-of-type {\n",
       "        vertical-align: middle;\n",
       "    }\n",
       "\n",
       "    .dataframe tbody tr th {\n",
       "        vertical-align: top;\n",
       "    }\n",
       "\n",
       "    .dataframe thead th {\n",
       "        text-align: right;\n",
       "    }\n",
       "</style>\n",
       "<table border=\"1\" class=\"dataframe\">\n",
       "  <thead>\n",
       "    <tr style=\"text-align: right;\">\n",
       "      <th></th>\n",
       "      <th>Cluster 0</th>\n",
       "      <th>Cluster 1</th>\n",
       "      <th>Cluster 2</th>\n",
       "      <th>Cluster 3</th>\n",
       "    </tr>\n",
       "    <tr>\n",
       "      <th>TransactionGroup</th>\n",
       "      <th></th>\n",
       "      <th></th>\n",
       "      <th></th>\n",
       "      <th></th>\n",
       "    </tr>\n",
       "  </thead>\n",
       "  <tbody>\n",
       "    <tr>\n",
       "      <th>0-10</th>\n",
       "      <td>0.014081</td>\n",
       "      <td>0.000000</td>\n",
       "      <td>0.000000</td>\n",
       "      <td>0.008379</td>\n",
       "    </tr>\n",
       "    <tr>\n",
       "      <th>10-20</th>\n",
       "      <td>0.024612</td>\n",
       "      <td>0.020249</td>\n",
       "      <td>0.160802</td>\n",
       "      <td>0.016487</td>\n",
       "    </tr>\n",
       "    <tr>\n",
       "      <th>20-30</th>\n",
       "      <td>0.000000</td>\n",
       "      <td>0.024515</td>\n",
       "      <td>0.135511</td>\n",
       "      <td>0.100794</td>\n",
       "    </tr>\n",
       "    <tr>\n",
       "      <th>30-40</th>\n",
       "      <td>0.000000</td>\n",
       "      <td>0.013258</td>\n",
       "      <td>0.072789</td>\n",
       "      <td>0.000000</td>\n",
       "    </tr>\n",
       "  </tbody>\n",
       "</table>\n",
       "</div>"
      ],
      "text/plain": [
       "                  Cluster 0  Cluster 1  Cluster 2  Cluster 3\n",
       "TransactionGroup                                            \n",
       "0-10               0.014081   0.000000   0.000000   0.008379\n",
       "10-20              0.024612   0.020249   0.160802   0.016487\n",
       "20-30              0.000000   0.024515   0.135511   0.100794\n",
       "30-40              0.000000   0.013258   0.072789   0.000000"
      ]
     },
     "execution_count": 12,
     "metadata": {},
     "output_type": "execute_result"
    }
   ],
   "source": [
    "cluster_by_trx = df_campaign_final.groupby(['Cluster', 'TransactionGroup'])['CVR'].mean()\n",
    "cluster_by_trx = cluster_by_trx.unstack(level=0).fillna(0.0)\n",
    "cluster_by_trx.columns = ['Cluster 0', 'Cluster 1', 'Cluster 2', 'Cluster 3']\n",
    "cluster_by_trx"
   ]
  },
  {
   "cell_type": "code",
   "execution_count": 13,
   "metadata": {},
   "outputs": [
    {
     "data": {
      "image/png": "[encoded data removed]",
      "text/plain": [
       "<Figure size 864x576 with 1 Axes>"
      ]
     },
     "metadata": {
      "needs_background": "light"
     },
     "output_type": "display_data"
    }
   ],
   "source": [
    "fig, ax = plt.subplots(1, 1, figsize=(12,8))\n",
    "cluster_by_trx.plot(kind='bar', stacked=True, width=0.7, ax=ax)\n",
    "\n",
    "ax.set_xlabel('Transaction Group', fontsize=14, fontweight='bold', alpha=0.8)\n",
    "ax.set_ylabel('Conversion Rate', fontsize=14, fontweight='bold', alpha=0.8)\n",
    "plt.tick_params(axis='both', which='major', labelsize=14)\n",
    "plt.grid(axis='y', alpha=0.8)\n",
    "ax.set_axisbelow(True)\n",
    "\n",
    "plt.xlim(-0.5, 3.5) # membatasi x-axis\n",
    "plt.ylim(0, 0.4) # membatasi y-axis\n",
    "plt.xticks(rotation=0)\n",
    "plt.yticks(np.arange(0, 0.45, 0.1))\n",
    "\n",
    "ax.legend(fontsize=14)\n",
    "plt.tight_layout()\n",
    "plt.savefig('img/cluster_by_transaction.png')\n",
    "plt.show()"
   ]
  },
  {
   "cell_type": "markdown",
   "metadata": {},
   "source": [
    "## Cluster by Number of Accepted Campaign"
   ]
  },
  {
   "cell_type": "code",
   "execution_count": 14,
   "metadata": {},
   "outputs": [
    {
     "data": {
      "text/html": [
       "<div>\n",
       "<style scoped>\n",
       "    .dataframe tbody tr th:only-of-type {\n",
       "        vertical-align: middle;\n",
       "    }\n",
       "\n",
       "    .dataframe tbody tr th {\n",
       "        vertical-align: top;\n",
       "    }\n",
       "\n",
       "    .dataframe thead th {\n",
       "        text-align: right;\n",
       "    }\n",
       "</style>\n",
       "<table border=\"1\" class=\"dataframe\">\n",
       "  <thead>\n",
       "    <tr style=\"text-align: right;\">\n",
       "      <th></th>\n",
       "      <th>Cluster 0</th>\n",
       "      <th>Cluster 1</th>\n",
       "      <th>Cluster 2</th>\n",
       "      <th>Cluster 3</th>\n",
       "    </tr>\n",
       "    <tr>\n",
       "      <th>NumOfAcceptedCmp</th>\n",
       "      <th></th>\n",
       "      <th></th>\n",
       "      <th></th>\n",
       "      <th></th>\n",
       "    </tr>\n",
       "  </thead>\n",
       "  <tbody>\n",
       "    <tr>\n",
       "      <th>0</th>\n",
       "      <td>0.010675</td>\n",
       "      <td>0.015752</td>\n",
       "      <td>0.076076</td>\n",
       "      <td>0.009403</td>\n",
       "    </tr>\n",
       "    <tr>\n",
       "      <th>1</th>\n",
       "      <td>0.062946</td>\n",
       "      <td>0.043703</td>\n",
       "      <td>0.155301</td>\n",
       "      <td>0.041434</td>\n",
       "    </tr>\n",
       "    <tr>\n",
       "      <th>2</th>\n",
       "      <td>0.142857</td>\n",
       "      <td>0.070055</td>\n",
       "      <td>0.231409</td>\n",
       "      <td>0.089286</td>\n",
       "    </tr>\n",
       "    <tr>\n",
       "      <th>3</th>\n",
       "      <td>0.000000</td>\n",
       "      <td>0.125000</td>\n",
       "      <td>0.305871</td>\n",
       "      <td>0.000000</td>\n",
       "    </tr>\n",
       "    <tr>\n",
       "      <th>4</th>\n",
       "      <td>0.000000</td>\n",
       "      <td>0.000000</td>\n",
       "      <td>0.386667</td>\n",
       "      <td>0.000000</td>\n",
       "    </tr>\n",
       "  </tbody>\n",
       "</table>\n",
       "</div>"
      ],
      "text/plain": [
       "                  Cluster 0  Cluster 1  Cluster 2  Cluster 3\n",
       "NumOfAcceptedCmp                                            \n",
       "0                  0.010675   0.015752   0.076076   0.009403\n",
       "1                  0.062946   0.043703   0.155301   0.041434\n",
       "2                  0.142857   0.070055   0.231409   0.089286\n",
       "3                  0.000000   0.125000   0.305871   0.000000\n",
       "4                  0.000000   0.000000   0.386667   0.000000"
      ]
     },
     "execution_count": 14,
     "metadata": {},
     "output_type": "execute_result"
    }
   ],
   "source": [
    "cluster_by_acceptedcmp = df_campaign_final.groupby(['Cluster', 'NumOfAcceptedCmp'])['CVR'].mean()\n",
    "cluster_by_acceptedcmp = cluster_by_acceptedcmp.unstack(level=0).fillna(0.0)\n",
    "cluster_by_acceptedcmp.columns = ['Cluster 0', 'Cluster 1', 'Cluster 2', 'Cluster 3']\n",
    "cluster_by_acceptedcmp"
   ]
  },
  {
   "cell_type": "code",
   "execution_count": 15,
   "metadata": {},
   "outputs": [
    {
     "data": {
      "image/png": "[encoded data removed]",
      "text/plain": [
       "<Figure size 864x576 with 1 Axes>"
      ]
     },
     "metadata": {
      "needs_background": "light"
     },
     "output_type": "display_data"
    }
   ],
   "source": [
    "fig, ax = plt.subplots(1, 1, figsize=(12,8))\n",
    "cluster_by_acceptedcmp.plot(kind='bar', stacked=True, width=0.7, ax=ax)\n",
    "\n",
    "ax.set_xlabel('Number of Accepted Campaign', fontsize=14, fontweight='bold', alpha=0.8)\n",
    "ax.set_ylabel('Conversion Rate', fontsize=14, fontweight='bold', alpha=0.8)\n",
    "plt.tick_params(axis='both', which='major', labelsize=14)\n",
    "plt.grid(axis='y', alpha=0.8)\n",
    "ax.set_axisbelow(True)\n",
    "\n",
    "plt.xlim(-0.5, 4.5) # membatasi x-axis\n",
    "plt.ylim(0, 0.8) # membatasi y-axis\n",
    "plt.xticks(rotation=0)\n",
    "plt.yticks(np.arange(0, 0.85, 0.2))\n",
    "\n",
    "ax.legend(fontsize=14)\n",
    "plt.tight_layout()\n",
    "plt.savefig('img/cluster_by_acceptedcmp.png')\n",
    "plt.show()"
   ]
  },
  {
   "cell_type": "markdown",
   "metadata": {},
   "source": [
    "## Conclusion\n",
    "\n",
    "1. Cluster 0 adalah orang yang berusia 41-80 tahun, memiliki jumlah anak maksimal 2, mempunyai pendapatan diantara 20-60 juta, memiliki pengeluaran dibawah 1 juta, bertransaksi maksimal 20 kali, dan telah menyetujui jumlah campaign maksimal 2 kali.\n",
    "2. Cluster 1 adalah orang yang berusia 41-80 tahun, memiliki jumlah anak maksimal 3, mempunyai pendapatan diantara 40-80 juta, memiliki pengeluaran dibawah 2 juta, bertransaksi antara 10-40 kali, dan telah menyetujui jumlah campaign maksimal 3 kali.\n",
    "3. Cluster 2 adalah orang yang berusia diatas 20 tahun, memiliki jumlah anak maksimal 2, mempunyai pendapatan diatas 60 juta, memiliki pengeluaran diatas 500 ribu, bertransaksi diatas 10 kali, dan selalu menyetujui campaign yang diberikan.\n",
    "4. Cluster 3 adalah orang yang berusia 20-60 tahun, memiliki jumlah anak maksimal 2, mempunyai pendapatan dibawah 50 juta, memiliki pengeluaran dibawah 1 juta, bertransaksi paling banyak 20-30 kali, dan telah menyetujui jumlah campaign maksimal 2 kali.\n",
    "\n",
    "Karena pendapatan dan pengeluaran saling berhubungan maka dapat kita simpulkan bahwa:\n",
    "- High Spender sebagai cluster 2\n",
    "- Medium Spender sebagai cluster 1\n",
    "- Low Spender sebagai cluster 0\n",
    "- Risk of Churn sebagai cluster 3"
   ]
  },
  {
   "cell_type": "code",
   "execution_count": 17,
   "metadata": {},
   "outputs": [
    {
     "data": {
      "text/plain": [
       "Medium Spender    546\n",
       "Risk of Churn     544\n",
       "Low Spender       523\n",
       "High Spender      436\n",
       "Name: Segment, dtype: int64"
      ]
     },
     "execution_count": 17,
     "metadata": {},
     "output_type": "execute_result"
    }
   ],
   "source": [
    "def get_segment_name(x):\n",
    "    if x==0:\n",
    "        return 'Low Spender'\n",
    "    if x==1:\n",
    "        return 'Medium Spender'\n",
    "    if x==2:\n",
    "        return 'High Spender'\n",
    "    if x==3:\n",
    "        return 'Risk of Churn'\n",
    "df_campaign_final['Segment'] = df_campaign_final['Cluster'].apply(lambda x : get_segment_name(x))\n",
    "df_campaign_final['Segment'].value_counts()"
   ]
  },
  {
   "cell_type": "markdown",
   "metadata": {},
   "source": [
    "# Recommendation"
   ]
  },
  {
   "cell_type": "markdown",
   "metadata": {},
   "source": [
    "1. Penggunaan clustering dapat mempermudah retargeting marketing campaign karena masing-masing cluster lebih terlihat jelas terutama dari faktor pendapatan dan pengeluaran yang berdampak posisif pada tingkat konversi.\n",
    "2. Untuk kelompok High Spender walaupun memiliki tingkat konversi tertinggi tetapi harus tetap dilakukan treatment yang sama dengan kelompok lainnnya agar revenue yang didapatkan tetap terjaga.\n",
    "3. Untuk kelompok Medium Spender hanya sedikit berbeda dengan High Spender dimana pendapatan lebih sedikit sehingga pengeluaran juga lebih sedikit. Namun transaksi yang dilakukan cukup sering, hal ini dimungkinkan transaksi yang dilakukan biasa menggunakan promo atau diskon sehingga jumlah promo atau diskon yang dibuat perlu dibatasi.\n",
    "4. Untuk kelompok Low Spender terlihat masih ragu dalam melakukan transaksi karena tingkat konversinya masih kecil walaupun transaksi yang dilakukan masih wajar mengingat jumlah pendapatan dan pengeluaran yang dimiliki. Kelompok ini perlu treatment tambahan agar menjadi lebih yakin dalam melakukan transaksi seperti memberi promo atau diskon tambahan yang disesuaikan.\n",
    "5. Untuk kelompok Risk of Churn adalah kelompok yang perlu diperhatikan karena tingkat konversi paling rendah dikarenakan pendapatan yang dihasilkan cukup paling kecil sehingga perlu dilakukan treament ekstra seperti preferensi apa yang paling diminati agar transaksi yang dilakukan naik tapi masih dalam kategori hemat agar tidak beralih ke tempat lain."
   ]
  },
  {
   "cell_type": "code",
   "execution_count": null,
   "metadata": {},
   "outputs": [],
   "source": []
  }
 ],
 "metadata": {
  "kernelspec": {
   "display_name": "Python 3",
   "language": "python",
   "name": "python3"
  },
  "language_info": {
   "codemirror_mode": {
    "name": "ipython",
    "version": 3
   },
   "file_extension": ".py",
   "mimetype": "text/x-python",
   "name": "python",
   "nbconvert_exporter": "python",
   "pygments_lexer": "ipython3",
   "version": "3.8.5"
  }
 },
 "nbformat": 4,
 "nbformat_minor": 4
}
